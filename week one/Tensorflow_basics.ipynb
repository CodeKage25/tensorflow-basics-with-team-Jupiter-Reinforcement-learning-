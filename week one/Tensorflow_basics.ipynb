{
  "nbformat": 4,
  "nbformat_minor": 0,
  "metadata": {
    "colab": {
      "name": "Tensorflow basics",
      "provenance": [],
      "collapsed_sections": []
    },
    "kernelspec": {
      "name": "python3",
      "display_name": "Python 3"
    }
  },
  "cells": [
    {
      "cell_type": "markdown",
      "metadata": {
        "id": "H1tcWukmZHd5"
      },
      "source": [
        "Tensorflow **Basic**"
      ]
    },
    {
      "cell_type": "code",
      "metadata": {
        "id": "W1zIT4VY3jOK"
      },
      "source": [
        "import os \r\n",
        "import tensorflow as tf\r\n",
        "import cProfile"
      ],
      "execution_count": 1,
      "outputs": []
    },
    {
      "cell_type": "code",
      "metadata": {
        "id": "gSbVGEuL7neq",
        "colab": {
          "base_uri": "https://localhost:8080/"
        },
        "outputId": "816bcdc9-bcdc-4594-93ef-13a5e8014d0f"
      },
      "source": [
        "tf.executing_eagerly()"
      ],
      "execution_count": 2,
      "outputs": [
        {
          "output_type": "execute_result",
          "data": {
            "text/plain": [
              "True"
            ]
          },
          "metadata": {
            "tags": []
          },
          "execution_count": 2
        }
      ]
    },
    {
      "cell_type": "code",
      "metadata": {
        "colab": {
          "base_uri": "https://localhost:8080/"
        },
        "id": "_0V3wkBqFsio",
        "outputId": "872e5fbe-666a-48c9-d3e0-c5d82ddeb444"
      },
      "source": [
        "x = [[2.]]\r\n",
        "m = tf.matmul(x,x)\r\n",
        "print('hello, {}'.format(m))"
      ],
      "execution_count": 3,
      "outputs": [
        {
          "output_type": "stream",
          "text": [
            "hello, [[4.]]\n"
          ],
          "name": "stdout"
        }
      ]
    },
    {
      "cell_type": "code",
      "metadata": {
        "colab": {
          "base_uri": "https://localhost:8080/"
        },
        "id": "nwrZsXYAKyuE",
        "outputId": "436fed66-4aa6-4839-f6db-93aefff6b2ae"
      },
      "source": [
        "y = [[4.]]\r\n",
        "n = tf.matmul(y,y)\r\n",
        "print('{}'.format(n))"
      ],
      "execution_count": 4,
      "outputs": [
        {
          "output_type": "stream",
          "text": [
            "[[16.]]\n"
          ],
          "name": "stdout"
        }
      ]
    },
    {
      "cell_type": "code",
      "metadata": {
        "colab": {
          "base_uri": "https://localhost:8080/"
        },
        "id": "ZF266doWK8kq",
        "outputId": "08a57953-7cdd-48f7-ff6e-0e487c4d10ac"
      },
      "source": [
        "a = tf.constant([[1,2,3],\r\n",
        "                [4,5,6]])\r\n",
        "print(a)"
      ],
      "execution_count": 5,
      "outputs": [
        {
          "output_type": "stream",
          "text": [
            "tf.Tensor(\n",
            "[[1 2 3]\n",
            " [4 5 6]], shape=(2, 3), dtype=int32)\n"
          ],
          "name": "stdout"
        }
      ]
    },
    {
      "cell_type": "code",
      "metadata": {
        "colab": {
          "base_uri": "https://localhost:8080/"
        },
        "id": "xchkqdXrLRZK",
        "outputId": "42781214-3a9e-43e5-8d9a-6e36ebb412f5"
      },
      "source": [
        "b = tf.add(a, 1)\r\n",
        "print(a)\r\n"
      ],
      "execution_count": 6,
      "outputs": [
        {
          "output_type": "stream",
          "text": [
            "tf.Tensor(\n",
            "[[1 2 3]\n",
            " [4 5 6]], shape=(2, 3), dtype=int32)\n"
          ],
          "name": "stdout"
        }
      ]
    },
    {
      "cell_type": "code",
      "metadata": {
        "colab": {
          "base_uri": "https://localhost:8080/"
        },
        "id": "1tj4S7IZLZKr",
        "outputId": "b04e1405-1737-4f4b-b230-a6c72e1a5b77"
      },
      "source": [
        "print(a * b)"
      ],
      "execution_count": 7,
      "outputs": [
        {
          "output_type": "stream",
          "text": [
            "tf.Tensor(\n",
            "[[ 2  6 12]\n",
            " [20 30 42]], shape=(2, 3), dtype=int32)\n"
          ],
          "name": "stdout"
        }
      ]
    },
    {
      "cell_type": "code",
      "metadata": {
        "id": "RtvuwYpGLq71",
        "colab": {
          "base_uri": "https://localhost:8080/"
        },
        "outputId": "da202ed9-4d6c-4767-c002-ecaf12ae8192"
      },
      "source": [
        "x1 = tf.constant([1,2,3,4,5])\r\n",
        "x2 = tf.constant([7,8,9,10,11])\r\n",
        "\r\n",
        "results = tf.multiply(x1,x2)\r\n",
        "print(results)"
      ],
      "execution_count": 8,
      "outputs": [
        {
          "output_type": "stream",
          "text": [
            "tf.Tensor([ 7 16 27 40 55], shape=(5,), dtype=int32)\n"
          ],
          "name": "stdout"
        }
      ]
    },
    {
      "cell_type": "code",
      "metadata": {
        "id": "3NKxO0SsPoXe"
      },
      "source": [
        "x3 = tf.constant([[1,2], [3,4], [5,6], [7,8], [9,10]])\r\n",
        "x4 = tf.constant([[11,12], [13,14], [15,16], [17,18], [19,20]])"
      ],
      "execution_count": 9,
      "outputs": []
    },
    {
      "cell_type": "code",
      "metadata": {
        "colab": {
          "base_uri": "https://localhost:8080/"
        },
        "id": "HOMaJ6WOXrUZ",
        "outputId": "38e34e60-2a9b-4b87-9a6a-4a831e4fb3d7"
      },
      "source": [
        "print(x3)\r\n",
        "print(x4)"
      ],
      "execution_count": 10,
      "outputs": [
        {
          "output_type": "stream",
          "text": [
            "tf.Tensor(\n",
            "[[ 1  2]\n",
            " [ 3  4]\n",
            " [ 5  6]\n",
            " [ 7  8]\n",
            " [ 9 10]], shape=(5, 2), dtype=int32)\n",
            "tf.Tensor(\n",
            "[[11 12]\n",
            " [13 14]\n",
            " [15 16]\n",
            " [17 18]\n",
            " [19 20]], shape=(5, 2), dtype=int32)\n"
          ],
          "name": "stdout"
        }
      ]
    },
    {
      "cell_type": "code",
      "metadata": {
        "colab": {
          "base_uri": "https://localhost:8080/"
        },
        "id": "wRWldBjKXwBm",
        "outputId": "c6747ac1-091a-444e-bc67-d9f4a3169d8d"
      },
      "source": [
        "results_1 = tf.multiply(x3,x4)\r\n",
        "print(results_1)"
      ],
      "execution_count": 11,
      "outputs": [
        {
          "output_type": "stream",
          "text": [
            "tf.Tensor(\n",
            "[[ 11  24]\n",
            " [ 39  56]\n",
            " [ 75  96]\n",
            " [119 144]\n",
            " [171 200]], shape=(5, 2), dtype=int32)\n"
          ],
          "name": "stdout"
        }
      ]
    },
    {
      "cell_type": "code",
      "metadata": {
        "colab": {
          "base_uri": "https://localhost:8080/"
        },
        "id": "iTw0pO9nX-Mi",
        "outputId": "4d71809b-18fb-4900-bf8c-7c18238ece73"
      },
      "source": [
        "concat = tf.concat(values=[x3,x4], axis=0)\r\n",
        "print(concat)"
      ],
      "execution_count": 12,
      "outputs": [
        {
          "output_type": "stream",
          "text": [
            "tf.Tensor(\n",
            "[[ 1  2]\n",
            " [ 3  4]\n",
            " [ 5  6]\n",
            " [ 7  8]\n",
            " [ 9 10]\n",
            " [11 12]\n",
            " [13 14]\n",
            " [15 16]\n",
            " [17 18]\n",
            " [19 20]], shape=(10, 2), dtype=int32)\n"
          ],
          "name": "stdout"
        }
      ]
    },
    {
      "cell_type": "code",
      "metadata": {
        "colab": {
          "base_uri": "https://localhost:8080/"
        },
        "id": "QJ-w4bkkYFHB",
        "outputId": "0c9b3be3-cceb-4fc3-d5b0-87e03638a052"
      },
      "source": [
        "concat_1 = tf.concat(values=[x3,x4], axis=1)\r\n",
        "print(concat_1)"
      ],
      "execution_count": 13,
      "outputs": [
        {
          "output_type": "stream",
          "text": [
            "tf.Tensor(\n",
            "[[ 1  2 11 12]\n",
            " [ 3  4 13 14]\n",
            " [ 5  6 15 16]\n",
            " [ 7  8 17 18]\n",
            " [ 9 10 19 20]], shape=(5, 4), dtype=int32)\n"
          ],
          "name": "stdout"
        }
      ]
    },
    {
      "cell_type": "code",
      "metadata": {
        "id": "571V9oFRZX_d",
        "colab": {
          "base_uri": "https://localhost:8080/"
        },
        "outputId": "3259d150-1066-4e8e-d0a0-cae7a0080723"
      },
      "source": [
        "zero_matrix = tf.zeros(shape=[4,5], dtype=tf.int32)\r\n",
        "print(zero_matrix)"
      ],
      "execution_count": 15,
      "outputs": [
        {
          "output_type": "stream",
          "text": [
            "tf.Tensor(\n",
            "[[0 0 0 0 0]\n",
            " [0 0 0 0 0]\n",
            " [0 0 0 0 0]\n",
            " [0 0 0 0 0]], shape=(4, 5), dtype=int32)\n"
          ],
          "name": "stdout"
        }
      ]
    },
    {
      "cell_type": "code",
      "metadata": {
        "colab": {
          "base_uri": "https://localhost:8080/"
        },
        "id": "SU59DqYELrA1",
        "outputId": "069fbcd3-d7a3-4e41-e471-35b1378f2e3f"
      },
      "source": [
        "unit_matrix = tf.ones(shape=[4,5], dtype=tf.int32)\r\n",
        "print(unit_matrix)"
      ],
      "execution_count": 17,
      "outputs": [
        {
          "output_type": "stream",
          "text": [
            "tf.Tensor(\n",
            "[[1 1 1 1 1]\n",
            " [1 1 1 1 1]\n",
            " [1 1 1 1 1]\n",
            " [1 1 1 1 1]], shape=(4, 5), dtype=int32)\n"
          ],
          "name": "stdout"
        }
      ]
    },
    {
      "cell_type": "code",
      "metadata": {
        "colab": {
          "base_uri": "https://localhost:8080/"
        },
        "id": "cNCe-MbrMTHA",
        "outputId": "a18e9a57-22ba-4031-bfb6-9e11d65fad38"
      },
      "source": [
        "reshape_matrix = tf.reshape(tensor=concat, shape=[20,1])\r\n",
        "print(reshape_matrix)"
      ],
      "execution_count": 18,
      "outputs": [
        {
          "output_type": "stream",
          "text": [
            "tf.Tensor(\n",
            "[[ 1]\n",
            " [ 2]\n",
            " [ 3]\n",
            " [ 4]\n",
            " [ 5]\n",
            " [ 6]\n",
            " [ 7]\n",
            " [ 8]\n",
            " [ 9]\n",
            " [10]\n",
            " [11]\n",
            " [12]\n",
            " [13]\n",
            " [14]\n",
            " [15]\n",
            " [16]\n",
            " [17]\n",
            " [18]\n",
            " [19]\n",
            " [20]], shape=(20, 1), dtype=int32)\n"
          ],
          "name": "stdout"
        }
      ]
    },
    {
      "cell_type": "code",
      "metadata": {
        "colab": {
          "base_uri": "https://localhost:8080/"
        },
        "id": "awiarnJXRuho",
        "outputId": "5658a6eb-b4dc-4ec1-d641-88b2a2eafdaf"
      },
      "source": [
        "intx4_to_float = tf.cast(x4, tf.float32)\r\n",
        "print(intx4_to_float)"
      ],
      "execution_count": 20,
      "outputs": [
        {
          "output_type": "stream",
          "text": [
            "tf.Tensor(\n",
            "[[11. 12.]\n",
            " [13. 14.]\n",
            " [15. 16.]\n",
            " [17. 18.]\n",
            " [19. 20.]], shape=(5, 2), dtype=float32)\n"
          ],
          "name": "stdout"
        }
      ]
    },
    {
      "cell_type": "code",
      "metadata": {
        "id": "pstMmbyWT2IS"
      },
      "source": [
        ""
      ],
      "execution_count": null,
      "outputs": []
    }
  ]
}